{
 "cells": [
  {
   "cell_type": "code",
   "execution_count": 259,
   "metadata": {},
   "outputs": [],
   "source": [
    "import numpy as np\n",
    "import pandas as pd\n",
    "import matplotlib.pyplot as plt\n",
    "import csv\n",
    "import cv2\n",
    "import seaborn as sns\n",
    "from keras.preprocessing.image import ImageDataGenerator\n",
    "sns.set()\n",
    "from PIL import Image\n",
    "from matplotlib import image\n",
    "from numpy import argmax\n",
    "from sklearn.preprocessing import LabelEncoder\n",
    "from sklearn.preprocessing import OneHotEncoder\n",
    "from keras.utils.np_utils import to_categorical   "
   ]
  },
  {
   "cell_type": "code",
   "execution_count": 260,
   "metadata": {},
   "outputs": [],
   "source": [
    "# images = [cv2.imread(file) for file in glob.glob(\"\\GTSRB\\Training\\00000\\*.ppm\")]\n",
    "train_data_path = \".\\dataset\\Train.csv\"\n",
    "test_data_path = \".\\dataset\\Test.csv\"\n",
    "train_path = \"dataset\\Train\"\n",
    "\n",
    "train_data = pd.read_csv(train_data_path)"
   ]
  },
  {
   "cell_type": "code",
   "execution_count": 280,
   "metadata": {},
   "outputs": [
    {
     "data": {
      "text/plain": [
       "0        20\n",
       "1        20\n",
       "2        20\n",
       "3        20\n",
       "4        20\n",
       "5        20\n",
       "6        20\n",
       "7        20\n",
       "8        20\n",
       "9        20\n",
       "10       20\n",
       "11       20\n",
       "12       20\n",
       "13       20\n",
       "14       20\n",
       "15       20\n",
       "16       20\n",
       "17       20\n",
       "18       20\n",
       "19       20\n",
       "20       20\n",
       "21       20\n",
       "22       20\n",
       "23       20\n",
       "24       20\n",
       "25       20\n",
       "26       20\n",
       "27       20\n",
       "28       20\n",
       "29       20\n",
       "         ..\n",
       "39179    42\n",
       "39180    42\n",
       "39181    42\n",
       "39182    42\n",
       "39183    42\n",
       "39184    42\n",
       "39185    42\n",
       "39186    42\n",
       "39187    42\n",
       "39188    42\n",
       "39189    42\n",
       "39190    42\n",
       "39191    42\n",
       "39192    42\n",
       "39193    42\n",
       "39194    42\n",
       "39195    42\n",
       "39196    42\n",
       "39197    42\n",
       "39198    42\n",
       "39199    42\n",
       "39200    42\n",
       "39201    42\n",
       "39202    42\n",
       "39203    42\n",
       "39204    42\n",
       "39205    42\n",
       "39206    42\n",
       "39207    42\n",
       "39208    42\n",
       "Name: ClassId, Length: 39209, dtype: int64"
      ]
     },
     "execution_count": 280,
     "metadata": {},
     "output_type": "execute_result"
    }
   ],
   "source": [
    "train_data[\"ClassId\"]"
   ]
  },
  {
   "cell_type": "code",
   "execution_count": 261,
   "metadata": {},
   "outputs": [
    {
     "data": {
      "image/png": "[encoded data removed]",
      "text/plain": [
       "<Figure size 1296x360 with 1 Axes>"
      ]
     },
     "metadata": {},
     "output_type": "display_data"
    }
   ],
   "source": [
    "plt.figure(figsize=[18,5]);\n",
    "plt.hist(train_data[\"ClassId\"], bins=43, );\n",
    "plt.ylabel(\"Number of tarining examples\");\n",
    "plt.xlabel(\"Classes\");"
   ]
  },
  {
   "cell_type": "code",
   "execution_count": 262,
   "metadata": {},
   "outputs": [
    {
     "data": {
      "text/html": [
       "<div>\n",
       "<style scoped>\n",
       "    .dataframe tbody tr th:only-of-type {\n",
       "        vertical-align: middle;\n",
       "    }\n",
       "\n",
       "    .dataframe tbody tr th {\n",
       "        vertical-align: top;\n",
       "    }\n",
       "\n",
       "    .dataframe thead th {\n",
       "        text-align: right;\n",
       "    }\n",
       "</style>\n",
       "<table border=\"1\" class=\"dataframe\">\n",
       "  <thead>\n",
       "    <tr style=\"text-align: right;\">\n",
       "      <th></th>\n",
       "      <th>Width</th>\n",
       "      <th>Height</th>\n",
       "      <th>Roi.X1</th>\n",
       "      <th>Roi.Y1</th>\n",
       "      <th>Roi.X2</th>\n",
       "      <th>Roi.Y2</th>\n",
       "      <th>ClassId</th>\n",
       "    </tr>\n",
       "  </thead>\n",
       "  <tbody>\n",
       "    <tr>\n",
       "      <th>count</th>\n",
       "      <td>39209.000000</td>\n",
       "      <td>39209.000000</td>\n",
       "      <td>39209.000000</td>\n",
       "      <td>39209.000000</td>\n",
       "      <td>39209.000000</td>\n",
       "      <td>39209.000000</td>\n",
       "      <td>39209.000000</td>\n",
       "    </tr>\n",
       "    <tr>\n",
       "      <th>mean</th>\n",
       "      <td>50.835880</td>\n",
       "      <td>50.328930</td>\n",
       "      <td>5.999515</td>\n",
       "      <td>5.962381</td>\n",
       "      <td>45.197302</td>\n",
       "      <td>44.728379</td>\n",
       "      <td>15.788390</td>\n",
       "    </tr>\n",
       "    <tr>\n",
       "      <th>std</th>\n",
       "      <td>24.306933</td>\n",
       "      <td>23.115423</td>\n",
       "      <td>1.475493</td>\n",
       "      <td>1.385440</td>\n",
       "      <td>23.060157</td>\n",
       "      <td>21.971145</td>\n",
       "      <td>12.013238</td>\n",
       "    </tr>\n",
       "    <tr>\n",
       "      <th>min</th>\n",
       "      <td>25.000000</td>\n",
       "      <td>25.000000</td>\n",
       "      <td>0.000000</td>\n",
       "      <td>5.000000</td>\n",
       "      <td>20.000000</td>\n",
       "      <td>20.000000</td>\n",
       "      <td>0.000000</td>\n",
       "    </tr>\n",
       "    <tr>\n",
       "      <th>25%</th>\n",
       "      <td>35.000000</td>\n",
       "      <td>35.000000</td>\n",
       "      <td>5.000000</td>\n",
       "      <td>5.000000</td>\n",
       "      <td>29.000000</td>\n",
       "      <td>30.000000</td>\n",
       "      <td>5.000000</td>\n",
       "    </tr>\n",
       "    <tr>\n",
       "      <th>50%</th>\n",
       "      <td>43.000000</td>\n",
       "      <td>43.000000</td>\n",
       "      <td>6.000000</td>\n",
       "      <td>6.000000</td>\n",
       "      <td>38.000000</td>\n",
       "      <td>38.000000</td>\n",
       "      <td>12.000000</td>\n",
       "    </tr>\n",
       "    <tr>\n",
       "      <th>75%</th>\n",
       "      <td>58.000000</td>\n",
       "      <td>58.000000</td>\n",
       "      <td>6.000000</td>\n",
       "      <td>6.000000</td>\n",
       "      <td>53.000000</td>\n",
       "      <td>52.000000</td>\n",
       "      <td>25.000000</td>\n",
       "    </tr>\n",
       "    <tr>\n",
       "      <th>max</th>\n",
       "      <td>243.000000</td>\n",
       "      <td>225.000000</td>\n",
       "      <td>20.000000</td>\n",
       "      <td>20.000000</td>\n",
       "      <td>223.000000</td>\n",
       "      <td>205.000000</td>\n",
       "      <td>42.000000</td>\n",
       "    </tr>\n",
       "  </tbody>\n",
       "</table>\n",
       "</div>"
      ],
      "text/plain": [
       "              Width        Height        Roi.X1        Roi.Y1        Roi.X2  \\\n",
       "count  39209.000000  39209.000000  39209.000000  39209.000000  39209.000000   \n",
       "mean      50.835880     50.328930      5.999515      5.962381     45.197302   \n",
       "std       24.306933     23.115423      1.475493      1.385440     23.060157   \n",
       "min       25.000000     25.000000      0.000000      5.000000     20.000000   \n",
       "25%       35.000000     35.000000      5.000000      5.000000     29.000000   \n",
       "50%       43.000000     43.000000      6.000000      6.000000     38.000000   \n",
       "75%       58.000000     58.000000      6.000000      6.000000     53.000000   \n",
       "max      243.000000    225.000000     20.000000     20.000000    223.000000   \n",
       "\n",
       "             Roi.Y2       ClassId  \n",
       "count  39209.000000  39209.000000  \n",
       "mean      44.728379     15.788390  \n",
       "std       21.971145     12.013238  \n",
       "min       20.000000      0.000000  \n",
       "25%       30.000000      5.000000  \n",
       "50%       38.000000     12.000000  \n",
       "75%       52.000000     25.000000  \n",
       "max      205.000000     42.000000  "
      ]
     },
     "execution_count": 262,
     "metadata": {},
     "output_type": "execute_result"
    }
   ],
   "source": [
    "train_data.describe()"
   ]
  },
  {
   "cell_type": "code",
   "execution_count": 263,
   "metadata": {},
   "outputs": [
    {
     "data": {
      "text/plain": [
       "Index(['Width', 'Height', 'Roi.X1', 'Roi.Y1', 'Roi.X2', 'Roi.Y2', 'ClassId',\n",
       "       'Path'],\n",
       "      dtype='object')"
      ]
     },
     "execution_count": 263,
     "metadata": {},
     "output_type": "execute_result"
    }
   ],
   "source": [
    "train_data.keys()"
   ]
  },
  {
   "cell_type": "code",
   "execution_count": 264,
   "metadata": {},
   "outputs": [
    {
     "data": {
      "text/html": [
       "<div>\n",
       "<style scoped>\n",
       "    .dataframe tbody tr th:only-of-type {\n",
       "        vertical-align: middle;\n",
       "    }\n",
       "\n",
       "    .dataframe tbody tr th {\n",
       "        vertical-align: top;\n",
       "    }\n",
       "\n",
       "    .dataframe thead th {\n",
       "        text-align: right;\n",
       "    }\n",
       "</style>\n",
       "<table border=\"1\" class=\"dataframe\">\n",
       "  <thead>\n",
       "    <tr style=\"text-align: right;\">\n",
       "      <th></th>\n",
       "      <th>Width</th>\n",
       "      <th>Height</th>\n",
       "      <th>Roi.X1</th>\n",
       "      <th>Roi.Y1</th>\n",
       "      <th>Roi.X2</th>\n",
       "      <th>Roi.Y2</th>\n",
       "      <th>ClassId</th>\n",
       "      <th>Path</th>\n",
       "    </tr>\n",
       "  </thead>\n",
       "  <tbody>\n",
       "    <tr>\n",
       "      <th>0</th>\n",
       "      <td>27</td>\n",
       "      <td>26</td>\n",
       "      <td>5</td>\n",
       "      <td>5</td>\n",
       "      <td>22</td>\n",
       "      <td>20</td>\n",
       "      <td>20</td>\n",
       "      <td>Train/20/00020_00000_00000.png</td>\n",
       "    </tr>\n",
       "    <tr>\n",
       "      <th>1</th>\n",
       "      <td>28</td>\n",
       "      <td>27</td>\n",
       "      <td>5</td>\n",
       "      <td>6</td>\n",
       "      <td>23</td>\n",
       "      <td>22</td>\n",
       "      <td>20</td>\n",
       "      <td>Train/20/00020_00000_00001.png</td>\n",
       "    </tr>\n",
       "    <tr>\n",
       "      <th>2</th>\n",
       "      <td>29</td>\n",
       "      <td>26</td>\n",
       "      <td>6</td>\n",
       "      <td>5</td>\n",
       "      <td>24</td>\n",
       "      <td>21</td>\n",
       "      <td>20</td>\n",
       "      <td>Train/20/00020_00000_00002.png</td>\n",
       "    </tr>\n",
       "    <tr>\n",
       "      <th>3</th>\n",
       "      <td>28</td>\n",
       "      <td>27</td>\n",
       "      <td>5</td>\n",
       "      <td>6</td>\n",
       "      <td>23</td>\n",
       "      <td>22</td>\n",
       "      <td>20</td>\n",
       "      <td>Train/20/00020_00000_00003.png</td>\n",
       "    </tr>\n",
       "    <tr>\n",
       "      <th>4</th>\n",
       "      <td>28</td>\n",
       "      <td>26</td>\n",
       "      <td>5</td>\n",
       "      <td>5</td>\n",
       "      <td>23</td>\n",
       "      <td>21</td>\n",
       "      <td>20</td>\n",
       "      <td>Train/20/00020_00000_00004.png</td>\n",
       "    </tr>\n",
       "  </tbody>\n",
       "</table>\n",
       "</div>"
      ],
      "text/plain": [
       "   Width  Height  Roi.X1  Roi.Y1  Roi.X2  Roi.Y2  ClassId  \\\n",
       "0     27      26       5       5      22      20       20   \n",
       "1     28      27       5       6      23      22       20   \n",
       "2     29      26       6       5      24      21       20   \n",
       "3     28      27       5       6      23      22       20   \n",
       "4     28      26       5       5      23      21       20   \n",
       "\n",
       "                             Path  \n",
       "0  Train/20/00020_00000_00000.png  \n",
       "1  Train/20/00020_00000_00001.png  \n",
       "2  Train/20/00020_00000_00002.png  \n",
       "3  Train/20/00020_00000_00003.png  \n",
       "4  Train/20/00020_00000_00004.png  "
      ]
     },
     "execution_count": 264,
     "metadata": {},
     "output_type": "execute_result"
    }
   ],
   "source": [
    "train_data.head(5)"
   ]
  },
  {
   "cell_type": "markdown",
   "metadata": {},
   "source": [
    "#### Pre-processing\n",
    "##### 1. Load image\n",
    "##### 2. Resize image to 32* 32\n",
    "##### 3. Convert to grayscale\n",
    "##### 4. Eqilize image for better contrast\n",
    "##### 5. Convert image between range [0 and 1]\n",
    "##### 6. Convert labels to one-hot"
   ]
  },
  {
   "cell_type": "code",
   "execution_count": 265,
   "metadata": {},
   "outputs": [
    {
     "name": "stderr",
     "output_type": "stream",
     "text": [
      "D:\\Installed_Softwares\\Anaconda\\lib\\site-packages\\sklearn\\preprocessing\\_encoders.py:368: FutureWarning: The handling of integer data will change in version 0.22. Currently, the categories are determined based on the range [0, max(values)], while in the future they will be determined based on the unique values.\n",
      "If you want the future behaviour and silence this warning, you can specify \"categories='auto'\".\n",
      "In case you used a LabelEncoder before this OneHotEncoder to convert the categories to integers, then you can now use the OneHotEncoder directly.\n",
      "  warnings.warn(msg, FutureWarning)\n"
     ]
    }
   ],
   "source": [
    "img_dimentions = (32,32)\n",
    "def pre_processing_(train_data):\n",
    "    number_of_images = train_data.shape\n",
    "    number_of_images[0]\n",
    "\n",
    "    train_images = []\n",
    "\n",
    "    for i in range(number_of_images[0]):\n",
    "        img = cv2.imread(\"dataset/\"+train_data.Path[i])\n",
    "        img = cv2.resize(img, img_dimentions) # resizing images to 32 x 32 pixels\n",
    "        img_grayscale = cv2.cvtColor(img, cv2.COLOR_BGR2GRAY) # convert RBG images to grayscale\n",
    "        img_equilize = cv2.equalizeHist(img_grayscale) # improve contrast\n",
    "        img_scale = img_grayscale / 255.00\n",
    "\n",
    "        train_images.append(img_scale)\n",
    "    # One- hot encoding labels\n",
    "    label_encoder = LabelEncoder()\n",
    "    integer_encoded = label_encoder.fit_transform(train_data.ClassId)\n",
    "    onehot_encoder = OneHotEncoder(sparse=False)\n",
    "    integer_encoded = integer_encoded.reshape(len(integer_encoded), 1)\n",
    "    train_labels = onehot_encoder.fit_transform(integer_encoded)\n",
    "    return np.array(train_images), train_labels\n",
    "\n",
    "train_images, train_labels = pre_processing_(train_data)"
   ]
  },
  {
   "cell_type": "markdown",
   "metadata": {},
   "source": [
    "### Augmentation\n",
    "#### 1. Flip image horizontally"
   ]
  },
  {
   "cell_type": "code",
   "execution_count": 266,
   "metadata": {},
   "outputs": [],
   "source": [
    "# # flipped images \n",
    "# flipped_images = []\n",
    "# flipped_labels = []\n",
    "# for i in range(train_images.shape[0]):\n",
    "#     # for horizontally flippable images\n",
    "#     if np.where(train_labels[i] == 1)[0][0] in horizontally_flippable:\n",
    "#         flipped_images.append(cv2.flip(train_images[i], flipCode=1)) # horizontal flip\n",
    "#         flipped_labels.append(train_labels[i])\n",
    "#     flipped = len(flipped_images)\n",
    "#     print(f\"Number of images flipped horizontally: {flipped} and labels: {flipped}\")\n",
    "#     # for vertically flippable images\n",
    "#     if np.where(train_labels[i] == 1)[0][0] in vertically_flippable:\n",
    "#         flipped_images.append(cv2.flip(train_images[i], flipCode=0)) # vertical flip\n",
    "#         flipped_labels.append(train_labels[i])\n",
    "#     print(f\"Number of images flipped vertically: {len(flipped_images) - flipped} and labels: {len(flipped_labels) - flipped}\")\n",
    "#     flipped = len(flipped_images)\n",
    "#     # for both flippable images\n",
    "#     if np.where(train_labels[i] == 1)[0][0] in both_flippable:\n",
    "#         flipped_images.append(cv2.flip(train_images[i], flipCode=-1)) # both flip\n",
    "#         flipped_labels.append(train_labels[i])\n",
    "#     print(f\"Number of images both flipped: {len(flipped_images) - flipped} and labels: {len(flipped_labels) - flipped}\")\n",
    "#     flipped = len(flipped_images)\n",
    "#     if np.where(train_labels[i] == 1)[0][0] in horizontally_cross_flippable[:, 0]:\n",
    "#         flipped_images.append(cv2.flip(train_images[i], flipCode=1)) # horizontally cross flip\n",
    "#         flipped_labels.append(horizontally_cross_flippable[np.where(horizontally_cross_flippable[:,0] == np.where(train_labels[i] == 1)[0][0]) ,1]  )\n",
    "#     print(f\"Number of images cross flipped horizontally: {len(flipped_images) - flipped} and labels: {len(flipped_labels) - flipped}\")\n",
    "#     flipped = len(flipped_images)\n",
    "# print(f\"Number of flipped images: {len(flipped_images)} and labels: {len(flipped_labels)}\")"
   ]
  },
  {
   "cell_type": "code",
   "execution_count": 267,
   "metadata": {},
   "outputs": [
    {
     "name": "stdout",
     "output_type": "stream",
     "text": [
      "Number of flipped images: 24329 and labels: 24329\n"
     ]
    }
   ],
   "source": [
    "#     # Classes of signs that, when flipped horizontally, should still be classified as the same class\n",
    "horizontally_flippable = np.array([11, 12, 13, 15, 17, 18, 22, 26, 30, 35])\n",
    "# Classes of signs that, when flipped vertically, should still be classified as the same class\n",
    "vertically_flippable = np.array([1, 5, 12, 15, 17])\n",
    "# Classes of signs that, when flipped horizontally and then vertically, should still be classified as the same class\n",
    "both_flippable = np.array([32, 40])\n",
    "# Classes of signs that, when flipped horizontally, would still be meaningful, but should be classified as some other class\n",
    "horizontally_cross_flippable = np.array([\n",
    "    [19, 20], \n",
    "    [33, 34], \n",
    "    [36, 37], \n",
    "    [38, 39],\n",
    "    [20, 19], \n",
    "    [34, 33], \n",
    "    [37, 36], \n",
    "    [39, 38],   \n",
    "])\n",
    "\n",
    "# flipped images \n",
    "flipped_images = []\n",
    "flipped_labels = []\n",
    "\n",
    "## TODO: Optimize for loop\n",
    "for i in range(train_images.shape[0]):\n",
    "    # for horizontally flippable images\n",
    "    if np.where(train_labels[i] == 1)[0][0] in horizontally_flippable:\n",
    "        flipped_images.append(cv2.flip(train_images[i], flipCode=1)) # horizontal flip\n",
    "        flipped_labels.append(train_labels[i])\n",
    "#     print(type(train_labels[i]))\n",
    "    \n",
    "    # for vertically flippable images\n",
    "    if np.where(train_labels[i] == 1)[0][0] in vertically_flippable:\n",
    "        flipped_images.append(cv2.flip(train_images[i], flipCode=0)) # vertical flip\n",
    "        flipped_labels.append(train_labels[i])\n",
    "    # for both flippable images\n",
    "    if np.where(train_labels[i] == 1)[0][0] in both_flippable:\n",
    "        flipped_images.append(cv2.flip(train_images[i], flipCode=-1)) # both flip\n",
    "        flipped_labels.append(train_labels[i])\n",
    "    \n",
    "    if np.where(train_labels[i] == 1)[0][0] in horizontally_cross_flippable[:, 0]:\n",
    "        flipped_images.append(cv2.flip(train_images[i], flipCode=1)) # horizontally cross flip\n",
    "        data_label = int(horizontally_cross_flippable[np.where(horizontally_cross_flippable[:,0] == np.where(train_labels[i] == 1)[0][0]) ,1])\n",
    "        flipped_labels.append(to_categorical(data_label, num_classes=43))\n",
    "print(f\"Number of flipped images: {len(flipped_images)} and labels: {len(flipped_labels)}\")"
   ]
  },
  {
   "cell_type": "code",
   "execution_count": 268,
   "metadata": {},
   "outputs": [
    {
     "data": {
      "text/plain": [
       "numpy.ndarray"
      ]
     },
     "execution_count": 268,
     "metadata": {},
     "output_type": "execute_result"
    }
   ],
   "source": [
    "type(np.array(list(to_categorical(19, num_classes=43))))"
   ]
  },
  {
   "cell_type": "code",
   "execution_count": 269,
   "metadata": {},
   "outputs": [
    {
     "name": "stdout",
     "output_type": "stream",
     "text": [
      "Number of original images: 39209 and original labels: 39209\n",
      "Number of total images: 63538 and total labels: 63538\n"
     ]
    }
   ],
   "source": [
    "# Adding flipped images to original dataset\n",
    "print(f\"Number of original images: {len(train_images)} and original labels: {len(train_labels)}\")\n",
    "train_images = np.append(train_images, flipped_images, axis = 0)\n",
    "# flipped_labels = np.array(flipped_labels)\n",
    "train_labels = np.append(train_labels, flipped_labels, axis =0)\n",
    "print(f\"Number of total images: {len(train_images)} and total labels: {len(train_labels)}\")\n",
    "# train_images = train_images.append(flipped_images)\n"
   ]
  },
  {
   "cell_type": "code",
   "execution_count": null,
   "metadata": {},
   "outputs": [],
   "source": []
  }
 ],
 "metadata": {
  "kernelspec": {
   "display_name": "Python 3",
   "language": "python",
   "name": "python3"
  },
  "language_info": {
   "codemirror_mode": {
    "name": "ipython",
    "version": 3
   },
   "file_extension": ".py",
   "mimetype": "text/x-python",
   "name": "python",
   "nbconvert_exporter": "python",
   "pygments_lexer": "ipython3",
   "version": "3.6.8"
  }
 },
 "nbformat": 4,
 "nbformat_minor": 2
}
